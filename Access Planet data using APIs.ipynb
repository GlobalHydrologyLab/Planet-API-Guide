{
  "nbformat": 4,
  "nbformat_minor": 0,
  "metadata": {
    "colab": {
      "name": "Order planet data.ipynb",
      "provenance": [],
      "collapsed_sections": [],
      "authorship_tag": "ABX9TyN1cR14Vygb3uWWp68+YKeI",
      "include_colab_link": true
    },
    "kernelspec": {
      "name": "python3",
      "display_name": "Python 3"
    },
    "language_info": {
      "name": "python"
    }
  },
  "cells": [
    {
      "cell_type": "markdown",
      "metadata": {
        "id": "view-in-github",
        "colab_type": "text"
      },
      "source": [
        "<a href=\"https://colab.research.google.com/github/seanyx/Planet-API-Guide/blob/main/Access%20Planet%20data%20using%20APIs.ipynb\" target=\"_parent\"><img src=\"https://colab.research.google.com/assets/colab-badge.svg\" alt=\"Open In Colab\"/></a>"
      ]
    },
    {
      "cell_type": "markdown",
      "source": [
        "The goal of this script is to develop functions in python using Planet APIs. These functions allows the users to \n",
        "1. query Planet images based on locations, time, cloud cover, and image processing level;\n",
        "2. download the images resulted from the query;\n",
        "3. deliver the images resulted from the query to Google Earth Engine.\n",
        "\n",
        "To be able to run this script, you will need your Planet API Key.\n",
        "And to be able to run step 3, you will need access to Google Earth Engine."
      ],
      "metadata": {
        "id": "TNGS7S6jh394"
      }
    },
    {
      "cell_type": "code",
      "source": [
        "import os\n",
        "import json\n",
        "import requests\n",
        "from shapely.geometry import shape, mapping\n",
        "\n",
        "def fully_cover_geometry(aoi):\n",
        "  \n",
        "  from shapely.geometry import shape, mapping\n",
        "  lon = [i[0] for i in list(shape(aoi).exterior.coords)]\n",
        "  lat = [i[1] for i in list(shape(aoi).exterior.coords)]\n",
        "  lon_range = [min(lon), max(lon)]\n",
        "  lat_range = [min(lat), max(lat)]\n",
        "\n",
        "  geometry_filter_list = [{\"type\": \"GeometryFilter\", \"field_name\": \"geometry\", \"config\": {\"type\": \"Point\", \"coordinates\": [i, j]}} for i in lon_range for j in lat_range]\n",
        "\n",
        "  # Setup an \"AND\" logical filter\n",
        "  and_filter = {\n",
        "      \"type\": \"AndFilter\",\n",
        "      \"config\": geometry_filter_list\n",
        "  }\n",
        "\n",
        "  return(and_filter)\n",
        "\n",
        "def query_planet(geometry, daterange, cloudrange, item_types, fully_covered = False):\n",
        "\n",
        "  ## planet data API link\n",
        "  URL = \"https://api.planet.com/data/v1\"\n",
        "  ## planet data API quick-search endpoint\n",
        "  quick_url = \"{}/quick-search\".format(URL)\n",
        "\n",
        "  # Setup the session\n",
        "  session = requests.Session()\n",
        "  # Authenticate\n",
        "  session.auth = (PLANET_API_KEY, \"\")\n",
        "\n",
        "  date_filter = {\n",
        "    \"type\": \"DateRangeFilter\", # Type of filter -> Date Range\n",
        "    \"field_name\": \"acquired\", # The field to filter on: \"acquired\" -> Date on which the \"image was taken\"\n",
        "    \"config\": daterange\n",
        "  }\n",
        "  \n",
        "  if fully_covered:\n",
        "    location_filter = fully_cover_geometry(aoi)\n",
        "  else: \n",
        "    location_filter = {\n",
        "      \"type\": \"GeometryFilter\",\n",
        "      \"field_name\": \"geometry\",\n",
        "      \"config\": geometry\n",
        "    }\n",
        "\n",
        "\n",
        "  cloud_filter = {\n",
        "      \"type\": \"RangeFilter\",\n",
        "      \"field_name\": \"cloud_cover\",\n",
        "      \"config\": cloudrange\n",
        "  }\n",
        "\n",
        "  # Setup an \"AND\" logical filter\n",
        "  and_filter = {\n",
        "      \"type\": \"AndFilter\",\n",
        "      \"config\": [location_filter, date_filter, cloud_filter]\n",
        "  }\n",
        "\n",
        "  # Setup the request\n",
        "  # Specify the sensors/satellites or \"item types\" to include in our results\n",
        "\n",
        "  request = {\n",
        "      \"item_types\" : item_types,\n",
        "      # \"interval\" : \"week\", ## interval only required for status endpoint\n",
        "      \"filter\" : and_filter\n",
        "  }\n",
        "\n",
        "  # Send the POST request to the API stats endpoint\n",
        "  res=session.post(quick_url, json=request)\n",
        "\n",
        "  return [i['id'] for i in res.json()[\"features\"]]\n",
        "\n",
        "def place_order(request, auth):\n",
        "\n",
        "    orders_url = 'https://api.planet.com/compute/ops/orders/v2'\n",
        "    response = requests.post(orders_url, data=json.dumps(request), auth=auth, headers=headers)\n",
        "    print(response)\n",
        "    \n",
        "    if not response.ok:\n",
        "        raise Exception(response.content)\n",
        "\n",
        "    order_id = response.json()['id']\n",
        "    print(order_id)\n",
        "    order_url = orders_url + '/' + order_id\n",
        "    return order_url\n",
        "\n",
        "def download_zip(ids, aoi, ordername = \"default\", item_type = \"PSScene\", product_bundle = \"visual\"):\n",
        "  \n",
        "  request_zip = {\n",
        "      \"name\": ordername,\n",
        "      \"products\": [{\n",
        "          \"item_ids\": ids,\n",
        "          \"item_type\": item_type,\n",
        "          \"product_bundle\": product_bundle\n",
        "          }],\n",
        "          \"tools\": [{\n",
        "              \"clip\": {\n",
        "                  \"aoi\": aoi\n",
        "                  }\n",
        "                  }],\n",
        "          \"notifications\": {\"email\": True},\n",
        "          \"delivery\": {\"single_archive\": True, \"archive_type\": \"zip\"}}\n",
        "  \n",
        "  order_url = place_order(request_zip, auth)\n",
        "\n",
        "  return order_url\n",
        "\n",
        "def deliver_to_gee(ids, aoi, gee_cloud_project_name, gee_imagecollection_name, ordername = \"default\", item_type = \"PSScene\", product_bundle = \"visual\"):\n",
        "  \n",
        "  request_gee = {\n",
        "      \"name\": ordername,\n",
        "      \"products\": [{\n",
        "          \"item_ids\": ids,\n",
        "          \"item_type\": item_type,\n",
        "          \"product_bundle\": product_bundle\n",
        "          }],\n",
        "          \"tools\": [{\n",
        "              \"clip\": {\n",
        "                  \"aoi\": aoi\n",
        "                  }\n",
        "                  }],\n",
        "          \"notifications\": {\"email\": True},\n",
        "          \"delivery\": {\n",
        "              \"google_earth_engine\": {\n",
        "                  \"project\": gee_cloud_project_name,\n",
        "                  \"collection\": gee_imagecollection_name,\n",
        "                  \"notifications\": {\n",
        "                      \"email\": True\n",
        "                  }\n",
        "              }\n",
        "        }}\n",
        "  \n",
        "  order_url = place_order(request_gee, auth)\n",
        "\n",
        "  return order_url"
      ],
      "metadata": {
        "colab": {
          "base_uri": "https://localhost:8080/"
        },
        "id": "KHt4dVLpXAqV",
        "outputId": "ba57a228-1519-422b-c429-b54541b43e93"
      },
      "execution_count": 6,
      "outputs": [
        {
          "output_type": "stream",
          "name": "stdout",
          "text": [
            "['20211230_174820_33_2414', '20211230_165427_74_242a', '20211228_170955_34_227e', '20211228_165341_35_2459', '20211222_171620_42_222f', '20211220_170039_43_241e', '20211218_174351_21_2416', '20211205_165916_66_2439', '20211203_165744_05_2463', '20211128_165902_49_2448', '20211123_174826_91_2414', '20211118_171339_16_227e', '20211117_165749_25_106c', '20211117_165429_58_2455', '20211112_165626_66_2448', '20211109_165639_51_2459', '20211107_165959_63_2458', '20211106_171511_83_222f', '20211104_174520_04_2403', '20211027_170108_75_106c', '20211025_174809_67_240a', '20211022_175045_87_2406', '20211022_165734_64_2206', '20211016_170047_82_245d', '20211013_170004_25_2423', '20211007_170020_43_241f', '20211005_170034_34_242b', '20211002_174454_99_227a', '20210928_170105_19_2429', '20210924_165828_51_242d', '20210924_174929_88_2402', '20210920_174906_87_2406', '20210915_170101_96_2436', '20210915_165741_65_2212', '20210908_174945_82_227b', '20210909_170030_85_2457', '20210906_174732_79_2403', '20210904_165949_86_2450', '20210903_165926_91_2451', '20210830_165727_25_2448', '20210829_170046_25_2439', '20210827_170039_29_2447', '20210825_170019_07_2459', '20210824_171219_65_2262', '20210821_175037_86_240c', '20210820_165821_62_245d', '20210818_170234_54_106e', '20210817_170121_83_241d', '20210816_170935_99_2276', '20210816_175230_60_2405', '20210813_170115_35_2436', '20210811_175130_39_241c', '20210801_165925_57_2447', '20210729_171133_69_2276', '20210728_165846_26_242d', '20210726_170151_64_245d', '20210725_175100_22_2424', '20210720_170316_53_2427', '20210713_165917_97_2451', '20210712_170651_89_2262', '20210705_165932_98_2450', '20210630_181434_74_105a', '20210630_170002_54_2235', '20210622_170332_58_2444', '20210614_170357_59_222b', '20210611_173608_83_105c', '20210611_170939_09_222f', '20210604_175228_50_2424', '20210529_170326_96_2431', '20210529_170135_63_245d', '20210527_171143_70_2251', '20210525_174930_41_2307', '20210506_171143_36_1063', '20210425_165938_30_241a', '20210410_170444_08_2458', '20210408_171349_77_222f', '20210405_175041_85_2407', '20210405_170432_13_2455', '20210402_175132_21_227a', '20210402_173913_96_105c', '20210401_170151_18_245f', '20210401_170403_01_2457', '20210318_170334_15_2459', '20210318_170238_05_2463', '20210305_175155_09_227c', '20210302_175500_76_241c', '20210301_175513_92_2405', '20210228_175056_28_225b', '20210223_175354_08_227c', '20210220_175512_88_2254', '20210219_175151_62_2424', '20210207_171041_49_2251', '20210202_180816_58_1057', '20210129_175322_61_240a', '20210122_175544_54_240a', '20210119_175700_02_240c', '20210116_175323_35_225b', '20210114_175638_49_2412', '20210112_171018_97_2441', '20210111_171250_94_227e', '20210105_171250_48_227e']\n",
            "101 images to be downloaded\n"
          ]
        }
      ]
    },
    {
      "cell_type": "markdown",
      "source": [
        "Use the above functions to query Planet images"
      ],
      "metadata": {
        "id": "bRJ4CX8-lzyH"
      }
    },
    {
      "cell_type": "code",
      "source": [
        "PLANET_API_KEY = ''\n",
        "auth = (PLANET_API_KEY, \"\")\n",
        "headers = {'content-type': 'application/json'}\n",
        "\n",
        "# specify input below: I use https://geojson.io/#map=13/35.9204/-79.0578 to get the geojson format of an area of interest\n",
        "aoi = {\n",
        "        \"type\": \"Polygon\",\n",
        "        \"coordinates\": [\n",
        "          [\n",
        "            [\n",
        "              -79.08147811889648,\n",
        "              35.897393965545646\n",
        "            ],\n",
        "            [\n",
        "              -79.03083801269531,\n",
        "              35.897393965545646\n",
        "            ],\n",
        "            [\n",
        "              -79.03083801269531,\n",
        "              35.928675705779135\n",
        "            ],\n",
        "            [\n",
        "              -79.08147811889648,\n",
        "              35.928675705779135\n",
        "            ],\n",
        "            [\n",
        "              -79.08147811889648,\n",
        "              35.897393965545646\n",
        "            ]\n",
        "          ]\n",
        "        ]\n",
        "      }\n",
        "\n",
        "cloudrange = {\n",
        "    \"lte\": 0.3\n",
        "    }\n",
        "\n",
        "daterange = {\n",
        "    \"gte\": \"2021-12-01T00:00:00.000Z\", # \"gte\" -> Greater than or equal to\n",
        "    \"lte\": \"2021-12-31T00:00:00.000Z\", # \"gte\" -> Greater than or equal to\n",
        "    }\n",
        "\n",
        "item_types = [\"PSScene\"]\n",
        "\n",
        "\n",
        "ids = query_planet(aoi, daterange, cloudrange, item_types, True)\n",
        "print(ids)\n",
        "print(str(len(ids)) + ' images to be downloaded')"
      ],
      "metadata": {
        "colab": {
          "base_uri": "https://localhost:8080/"
        },
        "id": "83XFT-N7lyyO",
        "outputId": "3ab6879b-599c-4366-aef0-3122e847ae4b"
      },
      "execution_count": 8,
      "outputs": [
        {
          "output_type": "stream",
          "name": "stdout",
          "text": [
            "['20211228_155807_67_227a', '20211228_155805_37_227a', '20211227_160049_56_2402', '20211215_163201_73_1064', '20211214_155654_21_227b', '20211213_152231_13_2251', '20211212_163205_70_1064', '20211206_151027_99_2453', '20211206_152452_64_227e', '20211205_150739_24_245d', '20211203_151017_52_2460', '20211201_150730_53_2420']\n",
            "12 images to be downloaded\n"
          ]
        }
      ]
    },
    {
      "cell_type": "markdown",
      "source": [
        "Order images to be zipped and downloaded to local computers."
      ],
      "metadata": {
        "id": "qfdoF21dmgBF"
      }
    },
    {
      "cell_type": "code",
      "source": [
        "order_url = download_zip(ids, aoi, ordername = \"Hourse_tooth_reservoir_2021\", item_type = \"PSScene\", product_bundle = \"visual\")\n",
        "\n",
        "print(order_url)"
      ],
      "metadata": {
        "id": "zyzb8DdSmREy"
      },
      "execution_count": null,
      "outputs": []
    },
    {
      "cell_type": "markdown",
      "source": [
        "Order images to be delivered to an image collection on Google Earth Engine cloud asset."
      ],
      "metadata": {
        "id": "rCD5tt04mnjh"
      }
    },
    {
      "cell_type": "code",
      "source": [
        "gee_order_url = deliver_to_gee(ids, aoi, 'gee-planet-ingestion', 'planet_data_ingestion_test', ordername = \"default\", item_type = \"PSScene\", product_bundle = \"visual\")\n",
        "\n",
        "print(gee_order_url)"
      ],
      "metadata": {
        "id": "3IVJsZcbmVTs"
      },
      "execution_count": null,
      "outputs": []
    }
  ]
}